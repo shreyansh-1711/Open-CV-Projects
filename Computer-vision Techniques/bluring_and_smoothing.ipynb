{
 "cells": [
  {
   "cell_type": "code",
   "execution_count": 1,
   "metadata": {},
   "outputs": [],
   "source": [
    "import cv2"
   ]
  },
  {
   "cell_type": "code",
   "execution_count": 2,
   "metadata": {},
   "outputs": [],
   "source": [
    "#Reading image from disk\n",
    "photo = cv2.imread('photo.jpeg')\n",
    "#Resizing image to make it smaller\n",
    "photo = cv2.resize(photo, (300,280) )\n",
    "#Applying different blur functions with 7*7 filter\n",
    "img_0 = cv2.blur(photo, ksize = (7, 7))\n",
    "img_1 = cv2.GaussianBlur(photo, (7, 7), 0)\n",
    "img_2 = cv2.medianBlur(photo, 7)\n",
    "img_3 = cv2.bilateralFilter(photo, 7, 75, 75)\n",
    "#Displaying resultant images\n",
    "cv2.imshow('Original', photo)\n",
    "cv2.imshow('Blur', img_0)\n",
    "cv2.imshow('Gaussian Blur', img_1)\n",
    "cv2.imshow('Median Blur', img_2)\n",
    "cv2.imshow('Bilateral Filter', img_3)\n",
    "#Waits for a user to press key for exit\n",
    "cv2.waitKey(0)\n",
    "cv2.destroyAllWindows()"
   ]
  },
  {
   "cell_type": "code",
   "execution_count": null,
   "metadata": {},
   "outputs": [],
   "source": []
  }
 ],
 "metadata": {
  "kernelspec": {
   "display_name": "Python 3",
   "language": "python",
   "name": "python3"
  },
  "language_info": {
   "codemirror_mode": {
    "name": "ipython",
    "version": 3
   },
   "file_extension": ".py",
   "mimetype": "text/x-python",
   "name": "python",
   "nbconvert_exporter": "python",
   "pygments_lexer": "ipython3",
   "version": "3.10.6"
  },
  "orig_nbformat": 4,
  "vscode": {
   "interpreter": {
    "hash": "916dbcbb3f70747c44a77c7bcd40155683ae19c65e1c03b4aa3499c5328201f1"
   }
  }
 },
 "nbformat": 4,
 "nbformat_minor": 2
}
