{
 "cells": [
  {
   "cell_type": "code",
   "execution_count": 1,
   "metadata": {},
   "outputs": [],
   "source": [
    "import cv2"
   ]
  },
  {
   "cell_type": "code",
   "execution_count": 2,
   "metadata": {},
   "outputs": [],
   "source": [
    "#Reading image from computer\n",
    "img = cv2.imread('shreyansh.jpg')\n",
    "#Resizing image to make it smaller\n",
    "img = cv2.resize(img, (320,240))\n",
    "#Converting color image to grayscale\n",
    "gray_img = cv2.cvtColor(img, cv2.COLOR_BGR2GRAY)\n",
    "#Applying threshold to the gray image\n",
    "ret, thresh1 = cv2.threshold(gray_img, 125, 255, cv2.THRESH_BINARY)\n",
    "ret, thresh2 = cv2.threshold(gray_img, 125, 255, cv2.THRESH_BINARY_INV)\n",
    "ret, thresh3 = cv2.threshold(gray_img, 125, 255, cv2.THRESH_TRUNC)\n",
    "ret, thresh4 = cv2.threshold(gray_img, 125, 255, cv2.THRESH_TOZERO)\n",
    "ret, thresh5 = cv2.threshold(gray_img, 125, 255, cv2.THRESH_TOZERO_INV)\n",
    "#Displaying resultant images\n",
    "cv2.imshow('Original Image', img)\n",
    "cv2.imshow('Binary Threshold', thresh1)\n",
    "cv2.imshow('Binary Threshold Inverted', thresh2)\n",
    "cv2.imshow('Truncated Threshold', thresh3)\n",
    "cv2.imshow('Set to 0', thresh4)\n",
    "cv2.imshow('Set to 0 Inverted', thresh5)\n",
    "#Wait for user to press key for exit\n",
    "cv2.waitKey(0)\n",
    "cv2.destroyAllWindows()"
   ]
  },
  {
   "cell_type": "code",
   "execution_count": 3,
   "metadata": {},
   "outputs": [],
   "source": [
    "#Reading image from computer\n",
    "img = cv2.imread('shreyansh.jpg')\n",
    "#Resizing image to make it smaller\n",
    "img = cv2.resize(img, (320,240))\n",
    "#Converting color image to grayscale\n",
    "gray_img = cv2.cvtColor(img, cv2.COLOR_BGR2GRAY)\n",
    "#Applying threshold to the gray image\n",
    "\n",
    "#Displaying resultant images\n",
    "cv2.imshow('Original Image', img)\n",
    "\n",
    "cv2.waitKey(0)\n",
    "cv2.destroyAllWindows()"
   ]
  },
  {
   "cell_type": "code",
   "execution_count": 4,
   "metadata": {},
   "outputs": [],
   "source": [
    "#Reading image from computer\n",
    "img = cv2.imread('shreyansh.jpg')\n",
    "#Resizing image to make it smaller\n",
    "img = cv2.resize(img, (320,240))\n",
    "#Converting color image to grayscale\n",
    "gray_img = cv2.cvtColor(img, cv2.COLOR_BGR2GRAY)\n",
    "#Applying threshold to the gray image\n",
    "ret, thresh1 = cv2.threshold(gray_img, 125, 255, cv2.THRESH_BINARY)\n",
    "\n",
    "#Displaying resultant images\n",
    "cv2.imshow('Binary Threshold', thresh1)\n",
    "\n",
    "#Wait for user to press key for exit\n",
    "cv2.waitKey(0)\n",
    "cv2.destroyAllWindows()"
   ]
  },
  {
   "cell_type": "code",
   "execution_count": null,
   "metadata": {},
   "outputs": [],
   "source": [
    "#Reading image from computer\n",
    "img = cv2.imread('shreyansh.jpg')\n",
    "#Resizing image to make it smaller\n",
    "img = cv2.resize(img, (320,240))\n",
    "#Converting color image to grayscale\n",
    "gray_img = cv2.cvtColor(img, cv2.COLOR_BGR2GRAY)\n",
    "#Applying threshold to the gray image\n",
    "ret, thresh1 = cv2.threshold(gray_img, 125, 255, cv2.THRESH_BINARY)\n",
    "ret, thresh2 = cv2.threshold(gray_img, 125, 255, cv2.THRESH_BINARY_INV)\n",
    "ret, thresh3 = cv2.threshold(gray_img, 125, 255, cv2.THRESH_TRUNC)\n",
    "ret, thresh4 = cv2.threshold(gray_img, 125, 255, cv2.THRESH_TOZERO)\n",
    "ret, thresh5 = cv2.threshold(gray_img, 125, 255, cv2.THRESH_TOZERO_INV)\n",
    "#Displaying resultant images\n",
    "cv2.imshow('Original Image', img)\n",
    "cv2.imshow('Binary Threshold', thresh1)\n",
    "cv2.imshow('Binary Threshold Inverted', thresh2)\n",
    "cv2.imshow('Truncated Threshold', thresh3)\n",
    "cv2.imshow('Set to 0', thresh4)\n",
    "cv2.imshow('Set to 0 Inverted', thresh5)\n",
    "#Wait for user to press key for exit\n",
    "cv2.waitKey(0)\n",
    "cv2.destroyAllWindows()"
   ]
  }
 ],
 "metadata": {
  "kernelspec": {
   "display_name": "Python 3",
   "language": "python",
   "name": "python3"
  },
  "language_info": {
   "codemirror_mode": {
    "name": "ipython",
    "version": 3
   },
   "file_extension": ".py",
   "mimetype": "text/x-python",
   "name": "python",
   "nbconvert_exporter": "python",
   "pygments_lexer": "ipython3",
   "version": "3.10.6"
  },
  "orig_nbformat": 4,
  "vscode": {
   "interpreter": {
    "hash": "916dbcbb3f70747c44a77c7bcd40155683ae19c65e1c03b4aa3499c5328201f1"
   }
  }
 },
 "nbformat": 4,
 "nbformat_minor": 2
}
