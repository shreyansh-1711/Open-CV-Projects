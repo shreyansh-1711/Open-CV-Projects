{
 "cells": [
  {
   "cell_type": "code",
   "execution_count": 1,
   "metadata": {},
   "outputs": [],
   "source": [
    "import cv2\n",
    "import numpy as np"
   ]
  },
  {
   "cell_type": "code",
   "execution_count": 2,
   "metadata": {},
   "outputs": [],
   "source": [
    "img = cv2.imread('ball.jpg')\n",
    "#Resizing image to make it smaller(optional)\n",
    "img = cv2.resize(img, (320,240))\n",
    "#Defining lower and upper range for color we want to extract(hsv format)\n",
    "lower_orange = np.array([20, 100, 100])\n",
    "upper_orange = np.array([30, 255, 255])\n",
    "#Converting image from BGR to HSV format\n",
    "hsv_img = cv2.cvtColor(img,cv2.COLOR_BGR2HSV)\n",
    "#cv2.inRange() function gives us the mask having colors within the specified lower and upper range\n",
    "mask = cv2.inRange(hsv_img, lower_orange, upper_orange)\n",
    "#cv2.bitwise_and() function performs bitwise and operation on pixels of original image and mask\n",
    "res = cv2.bitwise_and(img, img, mask=mask)\n",
    "#Displaying all the output images\n",
    "cv2.imshow('Original',img)\n",
    "cv2.imshow('mask',mask)\n",
    "cv2.imshow('res',res)\n",
    "#Waiting for user to press key for exit\n",
    "cv2.waitKey(0)\n",
    "cv2.destroyAllWindows()"
   ]
  },
  {
   "cell_type": "code",
   "execution_count": null,
   "metadata": {},
   "outputs": [],
   "source": []
  }
 ],
 "metadata": {
  "kernelspec": {
   "display_name": "Python 3",
   "language": "python",
   "name": "python3"
  },
  "language_info": {
   "codemirror_mode": {
    "name": "ipython",
    "version": 3
   },
   "file_extension": ".py",
   "mimetype": "text/x-python",
   "name": "python",
   "nbconvert_exporter": "python",
   "pygments_lexer": "ipython3",
   "version": "3.10.6"
  },
  "orig_nbformat": 4,
  "vscode": {
   "interpreter": {
    "hash": "916dbcbb3f70747c44a77c7bcd40155683ae19c65e1c03b4aa3499c5328201f1"
   }
  }
 },
 "nbformat": 4,
 "nbformat_minor": 2
}
